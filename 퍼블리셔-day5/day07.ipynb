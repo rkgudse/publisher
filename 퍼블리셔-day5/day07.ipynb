{
 "cells": [
  {
   "cell_type": "code",
   "execution_count": 3,
   "metadata": {},
   "outputs": [
    {
     "name": "stdout",
     "output_type": "stream",
     "text": [
      "bob은 초밥를 먹습니다.\n",
      "testuser은 김밥를 먹습니다.\n"
     ]
    }
   ],
   "source": [
    "class Person : #부모클래스\n",
    "    def __init__(self, name, age):\n",
    "        self.name = name\n",
    "        self.age = age\n",
    "    \n",
    "    # 메서드들\n",
    "    def eat (self, food):\n",
    "        print(f\"{self.name}은 {food}를 먹습니다.\")\n",
    "        \n",
    "    def sleep (self, hour):\n",
    "        print(f\"{self.anme}은 {hour}시간 동안 잡니다.\")\n",
    "    \n",
    "    def work(self, minute):\n",
    "        print(f\"{self.name}은 {minute}시간 동안 일합니다.\")\n",
    "        \n",
    "#자식 클래스\n",
    "class Student(Person): # 부모 클래스에서 상속받는 경우 ()에 상속받을 클래스를 지정\n",
    "    def __init__(self,name,age):\n",
    "        self.name = name\n",
    "        self.age = age\n",
    "    \n",
    "    def work (self, minute):\n",
    "        print(f\"{self.name}은 {minute}시간 동안 공부를 합니다.\")\n",
    "    \n",
    "class Employee (Person) :\n",
    "    pass\n",
    "\n",
    "\n",
    "bob = Student('bob', 25)\n",
    "bob.eat('초밥')\n",
    "\n",
    "worker = Employee ('testuser',30)\n",
    "worker.eat(\"김밥\")"
   ]
  },
  {
   "cell_type": "code",
   "execution_count": 6,
   "metadata": {},
   "outputs": [
    {
     "name": "stdout",
     "output_type": "stream",
     "text": [
      "bob은 60시간 동안 일합니다.\n",
      "bob은 60시간 동안 공부를 합니다.\n"
     ]
    }
   ],
   "source": [
    "class Person : #부모클래스\n",
    "    def __init__(self, name, age):\n",
    "        self.name = name\n",
    "        self.age = age\n",
    "    \n",
    "    # 메서드들\n",
    "    def eat (self, food):\n",
    "        print(f\"{self.name}은 {food}를 먹습니다.\")\n",
    "        \n",
    "    def sleep (self, hour):\n",
    "        print(f\"{self.anme}은 {hour}시간 동안 잡니다.\")\n",
    "    \n",
    "    def work(self, minute):\n",
    "        print(f\"{self.name}은 {minute}시간 동안 일합니다.\")\n",
    "        \n",
    "#자식 클래스\n",
    "class Student(Person): # 부모 클래스에서 상속받는 경우 ()에 상속받을 클래스를 지정\n",
    "    def __init__(self,name,age):\n",
    "        self.name = name\n",
    "        self.age = age\n",
    "    \n",
    "    def work (self, minute): # 부모 클래스의 매서드 기능 재정의 (work()) - method override\n",
    "        super().work(minute) # 부모 클래스의 work 메소드를 불러옴\n",
    "        print(f\"{self.name}은 {minute}시간 동안 공부를 합니다.\")\n",
    "    \n",
    "class Employee (Person) :\n",
    "    pass\n",
    "\n",
    "bob = Student('bob',25)\n",
    "cathy = Employee('Cathy', 35)\n",
    "bob.work(60)"
   ]
  },
  {
   "cell_type": "code",
   "execution_count": 28,
   "metadata": {},
   "outputs": [
    {
     "name": "stdout",
     "output_type": "stream",
     "text": [
      "plus = 30\n",
      "minus = -10\n",
      "plus = 80\n",
      "minus = -20\n"
     ]
    }
   ],
   "source": [
    "class cal_class :\n",
    "    def __init__(self,a,b):\n",
    "        self.x = a\n",
    "        self.y = b\n",
    "    \n",
    "    def plus(self):\n",
    "        P = self.x + self.y\n",
    "        return P\n",
    "    \n",
    "    def minus(self):\n",
    "        M = self.x - self.y\n",
    "        return M\n",
    "\n",
    "result1 = cal_class (10, 20)\n",
    "result2 = cal_class (30, 50)\n",
    "\n",
    "print ( \"plus =\",  result1.plus())\n",
    "print ( \"minus =\",  result1.minus())\n",
    "print ( \"plus =\",  result2.plus())\n",
    "print ( \"minus =\",  result2.minus())\n",
    "        "
   ]
  },
  {
   "cell_type": "markdown",
   "metadata": {},
   "source": []
  }
 ],
 "metadata": {
  "kernelspec": {
   "display_name": "Python 3",
   "language": "python",
   "name": "python3"
  },
  "language_info": {
   "codemirror_mode": {
    "name": "ipython",
    "version": 3
   },
   "file_extension": ".py",
   "mimetype": "text/x-python",
   "name": "python",
   "nbconvert_exporter": "python",
   "pygments_lexer": "ipython3",
   "version": "3.10.7"
  }
 },
 "nbformat": 4,
 "nbformat_minor": 2
}
